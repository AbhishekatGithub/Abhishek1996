{
 "cells": [
  {
   "cell_type": "code",
   "execution_count": 5,
   "id": "d3ad4f46",
   "metadata": {},
   "outputs": [
    {
     "name": "stdout",
     "output_type": "stream",
     "text": [
      "ENTER THE CITY NAME:   bangalore\n",
      "______________________________________________________________________\n",
      "\n",
      "Weather Statistics for - BANGALORE  || 21 Jun 2021 | 10:52:01 AM\n",
      "______________________________________________________________________\n",
      "\n",
      "Current temperature          : 27.11 deg C\n",
      "Current weather description  : scattered clouds\n",
      "Current Humidity level       : 60 %\n",
      "Current wind speed           : 7.2 kmph\n"
     ]
    },
    {
     "data": {
      "image/png": "[encoded data removed]",
      "text/plain": [
       "<Figure size 432x288 with 1 Axes>"
      ]
     },
     "metadata": {},
     "output_type": "display_data"
    }
   ],
   "source": [
    "  \n",
    "import requests\n",
    "import os\n",
    "from datetime import datetime\n",
    "import matplotlib.pyplot as plt\n",
    "import seaborn as sns\n",
    "user_api = os.environ['weatherX'] # capturing value of windows environment variable\n",
    "location = input(\"ENTER THE CITY NAME:   \")\n",
    "#api.openweathermap.org/data/2.5/weather?q={city name}&appid={API key}>>this API ID is used, generated by me.\n",
    "complete_api_link = \"https://api.openweathermap.org/data/2.5/weather?q=\"+location+\"&appid=\"+user_api\n",
    "api_link = requests.get(complete_api_link)\n",
    "api_data = api_link.json() # json format of representation\n",
    "\n",
    "if api_data['cod']=='404':\n",
    "\tprint(\"INVALID CITY: {},Please check city name again\".format(location))\n",
    "else:\n",
    "    # capturing data from json and converting it into a readable format\n",
    "    tempC = ((api_data['main']['temp']) - 273.15)\n",
    "    weatherdes = api_data['weather'][0]['description']\n",
    "    humid = api_data['main']['humidity']\n",
    "    wind = api_data['wind']['speed']\n",
    "    date_time = datetime.now().strftime(\"%d %b %Y | %I:%M:%S %p\")\n",
    "values=[tempC,humid,wind]\n",
    "parameters=[\"TEMPERATURE (Deg Celsius)\",\" HUMIDITY (%)\",\"WIND SPEED ( kmph )\"]\n",
    "plt.xticks(rotation='vertical')\n",
    "sns.set()\n",
    "bars=plt.bar(parameters,values)\n",
    "bars[0].set_color('red')\n",
    "bars[1].set_color('blue')\n",
    "bars[2].set_color('grey')\n",
    "\n",
    "print (\"______________________________________________________________________\\n\")\n",
    "print (\"Weather Statistics for - {}  || {}\".format(location.upper(), date_time))\n",
    "print (\"______________________________________________________________________\\n\")\n",
    "print (\"Current temperature          : {:.2f} deg C\".format(tempC))\n",
    "print (\"Current weather description  :\",weatherdes)\n",
    "print (\"Current Humidity level       :\",humid, '%')\n",
    "print (\"Current wind speed           :\",wind ,'kmph')\n",
    "plt.show()"
   ]
  },
  {
   "cell_type": "code",
   "execution_count": null,
   "id": "c8e98e47",
   "metadata": {},
   "outputs": [],
   "source": []
  }
 ],
 "metadata": {
  "kernelspec": {
   "display_name": "Python 3",
   "language": "python",
   "name": "python3"
  },
  "language_info": {
   "codemirror_mode": {
    "name": "ipython",
    "version": 3
   },
   "file_extension": ".py",
   "mimetype": "text/x-python",
   "name": "python",
   "nbconvert_exporter": "python",
   "pygments_lexer": "ipython3",
   "version": "3.6.5"
  }
 },
 "nbformat": 4,
 "nbformat_minor": 5
}
