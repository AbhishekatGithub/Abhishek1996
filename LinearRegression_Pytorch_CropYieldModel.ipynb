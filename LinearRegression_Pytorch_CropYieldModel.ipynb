{
 "cells": [
  {
   "cell_type": "markdown",
   "metadata": {},
   "source": [
    "**Crop Yield prediction using Linear Regression**"
   ]
  },
  {
   "cell_type": "code",
   "execution_count": 49,
   "metadata": {},
   "outputs": [],
   "source": [
    "import torch\n",
    "import numpy as np\n",
    "## torch neural network library\n",
    "import torch.nn as nn\n",
    "\n",
    "#\" Activate qt[ type %matplotlib qt] to see graph in GUI window with rotation and other features\"\n",
    "%matplotlib inline\n",
    "\n",
    "# inputs are in the form[temperature,humidity,rainfall]\n",
    "\n",
    "# targets are [yield of crop 1, yield of crop 2]\n",
    "\n",
    "inputs = np.array([[73, 67, 43], \n",
    "                   [91, 88, 64], \n",
    "                   [87, 134, 58], \n",
    "                   [102, 43, 37], \n",
    "                   [69, 96, 70]], dtype='float32')\n",
    "targets = np.array([[56, 70], \n",
    "                    [81, 101], \n",
    "                    [119, 133], \n",
    "                    [22, 37], \n",
    "                    [103, 119]], dtype='float32')\n",
    "inputs = torch.from_numpy(inputs)\n",
    "targets = torch.from_numpy(targets)\n"
   ]
  },
  {
   "cell_type": "code",
   "execution_count": 50,
   "metadata": {},
   "outputs": [
    {
     "data": {
      "text/plain": [
       "(tensor([[ 73.,  67.,  43.],\n",
       "         [ 91.,  88.,  64.],\n",
       "         [ 87., 134.,  58.]]), tensor([[ 56.,  70.],\n",
       "         [ 81., 101.],\n",
       "         [119., 133.]]))"
      ]
     },
     "execution_count": 50,
     "metadata": {},
     "output_type": "execute_result"
    }
   ],
   "source": [
    "from torch.utils.data import TensorDataset\n",
    "train_ds = TensorDataset(inputs, targets)\n",
    "train_ds[0:3]"
   ]
  },
  {
   "cell_type": "code",
   "execution_count": 52,
   "metadata": {},
   "outputs": [
    {
     "data": {
      "text/plain": [
       "<torch.utils.data.dataloader.DataLoader at 0x1fdd3a45e10>"
      ]
     },
     "execution_count": 52,
     "metadata": {},
     "output_type": "execute_result"
    }
   ],
   "source": [
    "# importing dataloader module, inputs taken as batches and shuffled to randomize\n",
    "from torch.utils.data import DataLoader\n",
    "batch = 5\n",
    "dl_train = DataLoader(train_ds, batch, shuffle=True)\n",
    "dl_train"
   ]
  },
  {
   "cell_type": "code",
   "execution_count": 53,
   "metadata": {},
   "outputs": [
    {
     "name": "stdout",
     "output_type": "stream",
     "text": [
      "tensor([[ 91.,  88.,  64.],\n",
      "        [102.,  43.,  37.],\n",
      "        [ 87., 134.,  58.],\n",
      "        [ 69.,  96.,  70.],\n",
      "        [ 73.,  67.,  43.]])\n",
      "tensor([[ 81., 101.],\n",
      "        [ 22.,  37.],\n",
      "        [119., 133.],\n",
      "        [103., 119.],\n",
      "        [ 56.,  70.]])\n"
     ]
    }
   ],
   "source": [
    "# printing loaded data\n",
    "for x, y in dl_train:\n",
    "    print(x)\n",
    "    print(y)\n",
    "    break"
   ]
  },
  {
   "cell_type": "code",
   "execution_count": 54,
   "metadata": {},
   "outputs": [
    {
     "name": "stdout",
     "output_type": "stream",
     "text": [
      "Parameter containing:\n",
      "tensor([[-0.5565, -0.2421, -0.0919],\n",
      "        [ 0.3875,  0.4383,  0.2777]], requires_grad=True)\n",
      "Parameter containing:\n",
      "tensor([ 0.4438, -0.2333], requires_grad=True)\n"
     ]
    }
   ],
   "source": [
    "import torch.nn as nn\n",
    "## Linear, a torch function for randomizing weights and biases and returns an array\n",
    "model = nn.Linear(3, 2)\n",
    "print(model.weight)\n",
    "print(model.bias)"
   ]
  },
  {
   "cell_type": "code",
   "execution_count": 55,
   "metadata": {},
   "outputs": [
    {
     "data": {
      "text/plain": [
       "tensor([[-60.3550,  69.3589],\n",
       "        [-77.3864,  91.3695],\n",
       "        [-85.7449, 108.3143],\n",
       "        [-70.1331,  68.4103],\n",
       "        [-67.6307,  88.0179]], grad_fn=<AddmmBackward>)"
      ]
     },
     "execution_count": 55,
     "metadata": {},
     "output_type": "execute_result"
    }
   ],
   "source": [
    "list(model.parameters())\n",
    "preds = model(inputs)\n",
    "preds\n"
   ]
  },
  {
   "cell_type": "code",
   "execution_count": 56,
   "metadata": {},
   "outputs": [
    {
     "name": "stdout",
     "output_type": "stream",
     "text": [
      "tensor(12079.7607, grad_fn=<MseLossBackward>)\n"
     ]
    }
   ],
   "source": [
    "import torch.nn.functional as L\n",
    "## loss function\n",
    "_loss_= L.mse_loss\n",
    "loss = _loss_(model(inputs),targets)\n",
    "print(loss)"
   ]
  },
  {
   "cell_type": "code",
   "execution_count": 57,
   "metadata": {},
   "outputs": [],
   "source": [
    "## optimizer function\n",
    "optimizer = torch.optim.SGD(model.parameters(), lr=1e-5)\n",
    "import matplotlib.pyplot as plt\n",
    "values=[]\n",
    "c=0\n",
    "## training the model for 100- epochs\n",
    "def fit(num_epochs, model, loss_fn, opt, train_dl):\n",
    "    \n",
    "   \n",
    "    for epoch in range(num_epochs):\n",
    "        \n",
    "        # Train with batches of data\n",
    "        for x,y in train_dl:\n",
    "            \n",
    "            # 1. Generate predictions\n",
    "            pred = model(x)\n",
    "            \n",
    "            # 2. Calculate loss\n",
    "            loss = loss_fn(pred, y)\n",
    "            \n",
    "            # 3. Compute gradient\n",
    "            loss.backward()\n",
    "            \n",
    "            # 4. update values using optimizer function\n",
    "            optimizer.step()\n",
    "            \n",
    "            # 5. Reset the gradients to zero\n",
    "            optimizer.zero_grad()\n",
    "        \n",
    "        # Progress of training\n",
    "        if (epoch+1) % 10 == 0:\n",
    "            values.append(loss.item())\n",
    "            #print('Epoch [{}/{}], Loss: {:.4f}'.format(epoch+1, num_epochs, loss.item()))"
   ]
  },
  {
   "cell_type": "code",
   "execution_count": 58,
   "metadata": {},
   "outputs": [
    {
     "data": {
      "image/png": "[encoded data removed]",
      "text/plain": [
       "<Figure size 432x288 with 1 Axes>"
      ]
     },
     "metadata": {},
     "output_type": "display_data"
    }
   ],
   "source": [
    "# running the model\n",
    "fit(1000, model, _loss_, optimizer, dl_train)\n",
    "#print(len(values))\n",
    "x=[20*(i+1) for i in range(0,100)]\n",
    "import matplotlib.pyplot as plt\n",
    "plt.plot(x,values,label=\"Loss function\")\n",
    "plt.xlabel(\" Training rate(Number of epochs) \")\n",
    "plt.ylabel(\" Loss values \")\n",
    "plt.title(\" Loss vs Training \")\n",
    "plt.legend()\n",
    "plt.show()"
   ]
  },
  {
   "cell_type": "code",
   "execution_count": 59,
   "metadata": {},
   "outputs": [
    {
     "data": {
      "text/plain": [
       "array([[ 57.339245,  70.471596],\n",
       "       [ 81.41148 ,  99.098946],\n",
       "       [120.22366 , 136.26985 ],\n",
       "       [ 21.565153,  38.020138],\n",
       "       [100.34289 , 115.77149 ]], dtype=float32)"
      ]
     },
     "execution_count": 59,
     "metadata": {},
     "output_type": "execute_result"
    }
   ],
   "source": [
    "preds = model(inputs)\n",
    "preds=preds.detach().numpy()\n",
    "preds"
   ]
  },
  {
   "cell_type": "code",
   "execution_count": 60,
   "metadata": {},
   "outputs": [
    {
     "data": {
      "text/plain": [
       "array([[ 56.,  70.],\n",
       "       [ 81., 101.],\n",
       "       [119., 133.],\n",
       "       [ 22.,  37.],\n",
       "       [103., 119.]], dtype=float32)"
      ]
     },
     "execution_count": 60,
     "metadata": {},
     "output_type": "execute_result"
    }
   ],
   "source": [
    "# compare predictions with targets\n",
    "targets=targets.detach().numpy()\n",
    "targets"
   ]
  },
  {
   "cell_type": "code",
   "execution_count": 61,
   "metadata": {},
   "outputs": [
    {
     "data": {
      "text/plain": [
       "[array([53.61783, 67.16322], dtype=float32)]"
      ]
     },
     "execution_count": 61,
     "metadata": {},
     "output_type": "execute_result"
    }
   ],
   "source": [
    "# new prediction using the trained model\n",
    "test=model(torch.tensor([[75, 63, 44.]]))\n",
    "test=list(test.detach().numpy())\n",
    "test\n"
   ]
  },
  {
   "cell_type": "code",
   "execution_count": 62,
   "metadata": {},
   "outputs": [
    {
     "name": "stdout",
     "output_type": "stream",
     "text": [
      "[57.339245, 70.471596, 81.41148, 99.098946, 120.22366, 136.26985, 21.565153, 38.020138, 100.34289, 115.77149] 10\n",
      "[56.0, 70.0, 81.0, 101.0, 119.0, 133.0, 22.0, 37.0, 103.0, 119.0] 10\n"
     ]
    },
    {
     "data": {
      "image/png": "[encoded data removed]",
      "text/plain": [
       "<Figure size 432x288 with 1 Axes>"
      ]
     },
     "metadata": {},
     "output_type": "display_data"
    }
   ],
   "source": [
    "import matplotlib.pyplot as plt\n",
    "x=[]\n",
    "y=[]\n",
    "for i in range(len(preds)):\n",
    "    for j in range(2):\n",
    "        x.append(preds[i][j])\n",
    "        y.append(targets[i][j])\n",
    "print(x,len(x))\n",
    "print(y,len(y))\n",
    "x1=[10*i for i in range(0,10)]\n",
    "\n",
    "plt.title(\" Linear relationship between predictions and targets\")\n",
    "plt.plot(x1,x,color='red',label= \"predictions\")\n",
    "plt.plot(x1,y,color='green',label= \"targets\")\n",
    "plt.legend()\n",
    "plt.plot(test[0][0],marker='*',color='green')\n",
    "plt.plot(test[0][1],marker='*',color='red')\n",
    "plt.grid()\n",
    "plt.show()"
   ]
  },
  {
   "cell_type": "code",
   "execution_count": 63,
   "metadata": {},
   "outputs": [
    {
     "name": "stdout",
     "output_type": "stream",
     "text": [
      "[[ 73.  67.  43.]\n",
      " [ 91.  88.  64.]\n",
      " [ 87. 134.  58.]\n",
      " [102.  43.  37.]\n",
      " [ 69.  96.  70.]]\n",
      "[73.0, 67.0, 91.0, 88.0, 87.0, 134.0, 102.0, 43.0, 69.0, 96.0]\n",
      "[73.0, 91.0, 87.0, 102.0, 69.0] [67.0, 88.0, 134.0, 43.0, 96.0]\n"
     ]
    }
   ],
   "source": [
    "x_=inputs.detach().numpy()\n",
    "print(x_)\n",
    "# taking only temperature and humidity values for plotting in 3D \n",
    "_x_=[x_[i][j] for i in range(5) for j in range(3) if j!=2 ]\n",
    "print(_x_)\n",
    "_x1=[]\n",
    "_x2=[]\n",
    "for i in range(0,10):\n",
    "    if(i%2==0):\n",
    "        _x1.append(_x_[i])\n",
    "    else:\n",
    "        _x2.append(_x_[i])\n",
    "    \n",
    "print(_x1,_x2)\n"
   ]
  },
  {
   "cell_type": "code",
   "execution_count": 64,
   "metadata": {},
   "outputs": [
    {
     "name": "stdout",
     "output_type": "stream",
     "text": [
      "[[ 57.339245  70.471596]\n",
      " [ 81.41148   99.098946]\n",
      " [120.22366  136.26985 ]\n",
      " [ 21.565153  38.020138]\n",
      " [100.34289  115.77149 ]]\n",
      "[57.339245, 81.41148, 120.22366, 21.565153, 100.34289] [70.471596, 99.098946, 136.26985, 38.020138, 115.77149]\n",
      "[[ 56.  70.]\n",
      " [ 81. 101.]\n",
      " [119. 133.]\n",
      " [ 22.  37.]\n",
      " [103. 119.]]\n",
      "[56.0, 81.0, 119.0, 22.0, 103.0] [70.0, 101.0, 133.0, 37.0, 119.0]\n"
     ]
    }
   ],
   "source": [
    "y_=preds\n",
    "print(y_)\n",
    "_y1=[]\n",
    "_y2=[]\n",
    "t1=[]\n",
    "t2=[]\n",
    "# taking only predictions of one crop\n",
    "for i in range(0,5):\n",
    "    for j in range(0,5):\n",
    "        if(j==0):\n",
    "            _y1.append(y_[i][j])\n",
    "        if(j==1):\n",
    "            _y2.append(y_[i][j])\n",
    "print(_y1,_y2)\n",
    "print(targets)\n",
    "for i in range(0,5):\n",
    "    for j in range(0,5):\n",
    "        if(j==0):\n",
    "            t1.append(targets[i][j])\n",
    "        if(j==1):\n",
    "            t2.append(targets[i][j])\n",
    "print(t1,t2)"
   ]
  },
  {
   "cell_type": "code",
   "execution_count": 65,
   "metadata": {},
   "outputs": [
    {
     "data": {
      "image/png": "[encoded data removed]",
      "text/plain": [
       "<Figure size 432x288 with 1 Axes>"
      ]
     },
     "metadata": {},
     "output_type": "display_data"
    }
   ],
   "source": [
    "# Here, the magic happens! \n",
    "import matplotlib.pyplot as plt\n",
    "from mpl_toolkits import mplot3d\n",
    "ax=plt.axes(projection='3d')\n",
    "\n",
    "# plotting a 3D scatter plot to visualize actual vs predicted values\n",
    "\n",
    "ax.scatter3D(_x1,_x2,_y1,color='red',label=\"Crop 1 predicted value\",marker='*')\n",
    "ax.scatter3D(_x1,_x2,_y2,color='green',label=\"Crop 2 predicted value\",marker='*')\n",
    "ax.scatter3D(_x1,_x2,t1,color='yellow',label=\"Crop 1 actual value\")\n",
    "ax.scatter3D(_x1,_x2,t2,color='brown',label=\"Crop 2 actual value\")\n",
    "\n",
    "ax.set_xlabel(\" Temperature \")\n",
    "ax.set_ylabel(\"Humidity\")\n",
    "ax.set_zlabel(\"Yield of crops\")\n",
    "plt.rcParams[\"figure.figsize\"] = (5,5)\n",
    "plt.legend()\n",
    "plt.show()"
   ]
  },
  {
   "cell_type": "code",
   "execution_count": null,
   "metadata": {},
   "outputs": [],
   "source": [
    "# Abhishek"
   ]
  },
  {
   "cell_type": "code",
   "execution_count": null,
   "metadata": {},
   "outputs": [],
   "source": []
  }
 ],
 "metadata": {
  "kernelspec": {
   "display_name": "Python 3",
   "language": "python",
   "name": "python3"
  },
  "language_info": {
   "codemirror_mode": {
    "name": "ipython",
    "version": 3
   },
   "file_extension": ".py",
   "mimetype": "text/x-python",
   "name": "python",
   "nbconvert_exporter": "python",
   "pygments_lexer": "ipython3",
   "version": "3.6.5"
  }
 },
 "nbformat": 4,
 "nbformat_minor": 2
}
