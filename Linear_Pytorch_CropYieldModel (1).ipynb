{
 "cells": [
  {
   "cell_type": "code",
   "execution_count": 1,
   "metadata": {},
   "outputs": [
    {
     "name": "stdout",
     "output_type": "stream",
     "text": [
      "tensor([[ 73.,  67.,  43.],\n",
      "        [ 91.,  88.,  64.],\n",
      "        [ 87., 134.,  58.],\n",
      "        [102.,  43.,  37.],\n",
      "        [ 69.,  96.,  70.]])\n",
      "tensor([[ 56.,  70.],\n",
      "        [ 81., 101.],\n",
      "        [119., 133.],\n",
      "        [ 22.,  37.],\n",
      "        [103., 119.]])\n",
      "tensor([[-1.5401, -0.4425, -0.4684],\n",
      "        [-0.8724, -0.7931,  0.3274]], requires_grad=True)\n",
      "tensor([-0.7888,  0.1240], requires_grad=True)\n"
     ]
    }
   ],
   "source": [
    "import numpy as np\n",
    "## torch neural network library\n",
    "import torch.nn as nn\n",
    "inputs = np.array([[73, 67, 43], \n",
    "                   [91, 88, 64], \n",
    "                   [87, 134, 58], \n",
    "                   [102, 43, 37], \n",
    "                   [69, 96, 70]], dtype='float32')\n",
    "targets = np.array([[56, 70], \n",
    "                    [81, 101], \n",
    "                    [119, 133], \n",
    "                    [22, 37], \n",
    "                    [103, 119]], dtype='float32')\n",
    "inputs = torch.from_numpy(inputs)\n",
    "targets = torch.from_numpy(targets)\n"
   ]
  },
  {
   "cell_type": "code",
   "execution_count": 2,
   "metadata": {},
   "outputs": [
    {
     "data": {
      "text/plain": [
       "(tensor([[ 73.,  67.,  43.],\n",
       "         [ 91.,  88.,  64.],\n",
       "         [ 87., 134.,  58.]]), tensor([[ 56.,  70.],\n",
       "         [ 81., 101.],\n",
       "         [119., 133.]]))"
      ]
     },
     "execution_count": 2,
     "metadata": {},
     "output_type": "execute_result"
    }
   ],
   "source": [
    "from torch.utils.data import TensorDataset\n",
    "train_ds = TensorDataset(inputs, targets)\n",
    "train_ds[0:3]"
   ]
  },
  {
   "cell_type": "code",
   "execution_count": 3,
   "metadata": {},
   "outputs": [],
   "source": [
    "from torch.utils.data import DataLoader\n",
    "batch_size = 5\n",
    "train_dl = DataLoader(train_ds, batch_size, shuffle=True)\n"
   ]
  },
  {
   "cell_type": "code",
   "execution_count": 4,
   "metadata": {},
   "outputs": [
    {
     "name": "stdout",
     "output_type": "stream",
     "text": [
      "tensor([[ 91.,  88.,  64.],\n",
      "        [ 73.,  67.,  43.],\n",
      "        [ 87., 134.,  58.],\n",
      "        [102.,  43.,  37.],\n",
      "        [ 69.,  96.,  70.]])\n",
      "tensor([[ 81., 101.],\n",
      "        [ 56.,  70.],\n",
      "        [119., 133.],\n",
      "        [ 22.,  37.],\n",
      "        [103., 119.]])\n"
     ]
    }
   ],
   "source": [
    "for xb, yb in train_dl:\n",
    "    print(xb)\n",
    "    print(yb)\n",
    "    break"
   ]
  },
  {
   "cell_type": "code",
   "execution_count": 6,
   "metadata": {},
   "outputs": [
    {
     "name": "stdout",
     "output_type": "stream",
     "text": [
      "Parameter containing:\n",
      "tensor([[-0.4922,  0.3907,  0.1882],\n",
      "        [-0.2683,  0.0679,  0.2562]], requires_grad=True)\n",
      "Parameter containing:\n",
      "tensor([ 0.1069, -0.2399], requires_grad=True)\n"
     ]
    }
   ],
   "source": [
    "import torch.nn as nn\n",
    "## torch function for randomizing weights and biases\n",
    "model = nn.Linear(3, 2)\n",
    "print(model.weight)\n",
    "print(model.bias)"
   ]
  },
  {
   "cell_type": "code",
   "execution_count": 7,
   "metadata": {},
   "outputs": [
    {
     "data": {
      "text/plain": [
       "tensor([[ -1.5524,  -4.2582],\n",
       "        [  1.7456,  -2.2808],\n",
       "        [ 20.5595,   0.3768],\n",
       "        [-26.3336, -15.2043],\n",
       "        [ 16.8294,   5.7015]], grad_fn=<AddmmBackward>)"
      ]
     },
     "execution_count": 7,
     "metadata": {},
     "output_type": "execute_result"
    }
   ],
   "source": [
    "list(model.parameters())\n",
    "preds = model(inputs)\n",
    "preds\n"
   ]
  },
  {
   "cell_type": "code",
   "execution_count": 8,
   "metadata": {},
   "outputs": [
    {
     "name": "stdout",
     "output_type": "stream",
     "text": [
      "tensor(7837.7515, grad_fn=<MseLossBackward>)\n"
     ]
    }
   ],
   "source": [
    "import torch.nn.functional as F\n",
    "\n",
    "## loss function\n",
    "loss_fn = F.mse_loss\n",
    "loss = loss_fn(model(inputs), targets)\n",
    "print(loss)"
   ]
  },
  {
   "cell_type": "code",
   "execution_count": 15,
   "metadata": {},
   "outputs": [],
   "source": [
    "## optimizer function\n",
    "opt = torch.optim.SGD(model.parameters(), lr=1e-5)\n",
    "\n",
    "## training the model for 100- epochs\n",
    "def fit(num_epochs, model, loss_fn, opt, train_dl):\n",
    "    \n",
    "   \n",
    "    for epoch in range(num_epochs):\n",
    "        \n",
    "        # Train with batches of data\n",
    "        for xb,yb in train_dl:\n",
    "            \n",
    "            # 1. Generate predictions\n",
    "            pred = model(xb)\n",
    "            \n",
    "            # 2. Calculate loss\n",
    "            loss = loss_fn(pred, yb)\n",
    "            \n",
    "            # 3. Compute gradient\n",
    "            loss.backward()\n",
    "            \n",
    "            # 4. update values using optimizer function\n",
    "            opt.step()\n",
    "            \n",
    "            # 5. Reset the gradients to zero\n",
    "            opt.zero_grad()\n",
    "        \n",
    "        # Progress of training\n",
    "        if (epoch+1) % 20 == 0:\n",
    "            print('Epoch [{}/{}], Loss: {:.4f}'.format(epoch+1, num_epochs, loss.item()))"
   ]
  },
  {
   "cell_type": "code",
   "execution_count": 16,
   "metadata": {},
   "outputs": [
    {
     "name": "stdout",
     "output_type": "stream",
     "text": [
      "Epoch [20/1000], Loss: 0.6810\n",
      "Epoch [40/1000], Loss: 0.6748\n",
      "Epoch [60/1000], Loss: 0.6688\n",
      "Epoch [80/1000], Loss: 0.6630\n",
      "Epoch [100/1000], Loss: 0.6575\n",
      "Epoch [120/1000], Loss: 0.6521\n",
      "Epoch [140/1000], Loss: 0.6470\n",
      "Epoch [160/1000], Loss: 0.6420\n",
      "Epoch [180/1000], Loss: 0.6373\n",
      "Epoch [200/1000], Loss: 0.6327\n",
      "Epoch [220/1000], Loss: 0.6282\n",
      "Epoch [240/1000], Loss: 0.6239\n",
      "Epoch [260/1000], Loss: 0.6198\n",
      "Epoch [280/1000], Loss: 0.6159\n",
      "Epoch [300/1000], Loss: 0.6120\n",
      "Epoch [320/1000], Loss: 0.6084\n",
      "Epoch [340/1000], Loss: 0.6048\n",
      "Epoch [360/1000], Loss: 0.6014\n",
      "Epoch [380/1000], Loss: 0.5981\n",
      "Epoch [400/1000], Loss: 0.5950\n",
      "Epoch [420/1000], Loss: 0.5919\n",
      "Epoch [440/1000], Loss: 0.5890\n",
      "Epoch [460/1000], Loss: 0.5861\n",
      "Epoch [480/1000], Loss: 0.5834\n",
      "Epoch [500/1000], Loss: 0.5808\n",
      "Epoch [520/1000], Loss: 0.5782\n",
      "Epoch [540/1000], Loss: 0.5758\n",
      "Epoch [560/1000], Loss: 0.5735\n",
      "Epoch [580/1000], Loss: 0.5712\n",
      "Epoch [600/1000], Loss: 0.5690\n",
      "Epoch [620/1000], Loss: 0.5669\n",
      "Epoch [640/1000], Loss: 0.5649\n",
      "Epoch [660/1000], Loss: 0.5629\n",
      "Epoch [680/1000], Loss: 0.5611\n",
      "Epoch [700/1000], Loss: 0.5593\n",
      "Epoch [720/1000], Loss: 0.5575\n",
      "Epoch [740/1000], Loss: 0.5558\n",
      "Epoch [760/1000], Loss: 0.5542\n",
      "Epoch [780/1000], Loss: 0.5527\n",
      "Epoch [800/1000], Loss: 0.5512\n",
      "Epoch [820/1000], Loss: 0.5497\n",
      "Epoch [840/1000], Loss: 0.5483\n",
      "Epoch [860/1000], Loss: 0.5470\n",
      "Epoch [880/1000], Loss: 0.5457\n",
      "Epoch [900/1000], Loss: 0.5444\n",
      "Epoch [920/1000], Loss: 0.5432\n",
      "Epoch [940/1000], Loss: 0.5421\n",
      "Epoch [960/1000], Loss: 0.5410\n",
      "Epoch [980/1000], Loss: 0.5399\n",
      "Epoch [1000/1000], Loss: 0.5389\n"
     ]
    }
   ],
   "source": [
    "# running the model\n",
    "fit(1000, model, loss_fn, opt, train_dl)\n"
   ]
  },
  {
   "cell_type": "code",
   "execution_count": 17,
   "metadata": {},
   "outputs": [
    {
     "data": {
      "text/plain": [
       "tensor([[ 57.1956,  70.2848],\n",
       "        [ 82.0940, 100.5660],\n",
       "        [118.9012, 133.2337],\n",
       "        [ 21.1383,  37.0956],\n",
       "        [101.7125, 118.8631]], grad_fn=<AddmmBackward>)"
      ]
     },
     "execution_count": 17,
     "metadata": {},
     "output_type": "execute_result"
    }
   ],
   "source": [
    "preds = model(inputs)\n",
    "preds"
   ]
  },
  {
   "cell_type": "code",
   "execution_count": 18,
   "metadata": {},
   "outputs": [
    {
     "data": {
      "text/plain": [
       "tensor([[ 56.,  70.],\n",
       "        [ 81., 101.],\n",
       "        [119., 133.],\n",
       "        [ 22.,  37.],\n",
       "        [103., 119.]])"
      ]
     },
     "execution_count": 18,
     "metadata": {},
     "output_type": "execute_result"
    }
   ],
   "source": [
    "# compare predictions with targets\n",
    "targets"
   ]
  },
  {
   "cell_type": "code",
   "execution_count": 19,
   "metadata": {},
   "outputs": [
    {
     "data": {
      "text/plain": [
       "tensor([[53.6597, 67.3825]], grad_fn=<AddmmBackward>)"
      ]
     },
     "execution_count": 19,
     "metadata": {},
     "output_type": "execute_result"
    }
   ],
   "source": [
    "# new prediction using the trained model\n",
    "model(torch.tensor([[75, 63, 44.]]))\n"
   ]
  },
  {
   "cell_type": "code",
   "execution_count": null,
   "metadata": {},
   "outputs": [],
   "source": []
  }
 ],
 "metadata": {
  "kernelspec": {
   "display_name": "Python 3",
   "language": "python",
   "name": "python3"
  },
  "language_info": {
   "codemirror_mode": {
    "name": "ipython",
    "version": 3
   },
   "file_extension": ".py",
   "mimetype": "text/x-python",
   "name": "python",
   "nbconvert_exporter": "python",
   "pygments_lexer": "ipython3",
   "version": "3.6.5"
  }
 },
 "nbformat": 4,
 "nbformat_minor": 2
}
